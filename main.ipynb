{
 "cells": [
  {
   "cell_type": "markdown",
   "metadata": {},
   "source": [
    "## Imports."
   ]
  },
  {
   "cell_type": "code",
   "execution_count": 3,
   "metadata": {
    "tags": []
   },
   "outputs": [],
   "source": [
    "import pandas as pd\n",
    "import numpy as np\n",
    "import os\n",
    "import shutil\n",
    "from datetime import date\n",
    "import csv\n",
    "import time"
   ]
  },
  {
   "cell_type": "markdown",
   "metadata": {},
   "source": [
    "## Sets variables needed."
   ]
  },
  {
   "cell_type": "code",
   "execution_count": 7,
   "metadata": {
    "tags": []
   },
   "outputs": [],
   "source": [
    "dataDir = 'D:\\Arquivos de Programas\\Steam\\steamapps\\common\\FPSAimTrainer\\FPSAimTrainer\\stats'\n",
    "target = ['Kills:', 'Score:', 'Scenario:']\n",
    "try:\n",
    "    stats = pd.read_csv(dataDir + '\\\\stats.csv')\n",
    "except:\n",
    "    stats = pd.DataFrame(columns=['Kills', 'Score', 'Scenario'])\n",
    "data = {}"
   ]
  },
  {
   "cell_type": "markdown",
   "metadata": {},
   "source": [
    "## Loop throught the folder, then look for the first appearece of one of the data needed and place it on a dataframe to later be exported into a csv.\n",
    "\n"
   ]
  },
  {
   "cell_type": "code",
   "execution_count": 14,
   "metadata": {
    "tags": []
   },
   "outputs": [
    {
     "output_type": "execute_result",
     "data": {
      "text/plain": "0    voxTargetSwitch\nName: Scenario, dtype: object"
     },
     "metadata": {},
     "execution_count": 14
    }
   ],
   "source": [
    "for filename in os.listdir(dataDir):\n",
    "    f = open(dataDir + '\\\\' + filename, 'r')\n",
    "    with f as csv_file:\n",
    "        csv_reader = csv.reader(csv_file)\n",
    "        for line in csv_reader:\n",
    "            try:\n",
    "                if line[0] in target:\n",
    "                    data[(line[0][:-1])] = line[1]     \n",
    "            except IndexError:\n",
    "                continue\n",
    "        f.close()\n",
    "\n",
    "    ctime = time.strftime(\"%m/%d/%Y %H:%M:%S\",time.localtime(os.path.getmtime(dataDir + '\\\\' + filename)))\n",
    "    data[\"Date\"] = ctime\n",
    "\n",
    "    df = pd.DataFrame(data, index=[0]) \n",
    "    stats = stats.append(df, ignore_index=True)    \n",
    "stats"
   ]
  },
  {
   "cell_type": "markdown",
   "metadata": {},
   "source": [
    "## Export to a CSV."
   ]
  },
  {
   "cell_type": "code",
   "execution_count": 6,
   "metadata": {},
   "outputs": [],
   "source": [
    "stats.to_csv(\"stats.csv\", index=False)"
   ]
  },
  {
   "cell_type": "code",
   "execution_count": null,
   "metadata": {},
   "outputs": [],
   "source": []
  }
 ],
 "metadata": {
  "language_info": {
   "codemirror_mode": {
    "name": "ipython",
    "version": 3
   },
   "file_extension": ".py",
   "mimetype": "text/x-python",
   "name": "python",
   "nbconvert_exporter": "python",
   "pygments_lexer": "ipython3",
   "version": "3.7.7-final"
  },
  "orig_nbformat": 2,
  "kernelspec": {
   "name": "python37764bitcodenationcondaf632fc0641774294928f1fa60c31ff34",
   "display_name": "Python 3.7.7 64-bit ('codenation': conda)"
  }
 },
 "nbformat": 4,
 "nbformat_minor": 2
}